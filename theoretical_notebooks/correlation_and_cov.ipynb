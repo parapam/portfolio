{
 "cells": [
  {
   "cell_type": "markdown",
   "id": "1bfd355c",
   "metadata": {},
   "source": [
    "**Covariance** - defines relationship between two variables (X and Y) by measuring how much two variables get changed together. Covariance can range from $+\\infty$ to $-\\infty$. Higher the number = higher dependency. It is affected by the scale variables are measured in.\n",
    "\n",
    "$cov(X,Y)$ = $\\frac{1}{n-1}\\sum_{i=1}^{n}(x_i-\\hat{x})(y_i-\\hat{y})$\n",
    "\n",
    "**Correlation** - defines how strongly two variables are related. Can range from $-1$ to $+1$. Is not affected by the scale. Higher the **absolute value** of corr = higher dependency.\n",
    "\n",
    "_Sample correlation coefficient_: $r = \\frac{cov(X,Y)}{\\sqrt{var(X)}\\sqrt{var(Y)}}$\n",
    "\n",
    "The guide that Evans (_Evans JD. Straightforward Statistics for the Behavioral Sciences. Brooks/Cole Publishing; Pacific Grove, Calif.: 1996_) suggests for the absolute value of r:\n",
    "- 0.00 - 0.19 very weak\n",
    "- 0.20 - 0.39 weak\n",
    "- 0.40 - 0.59 moderate\n",
    "- 0.60 - 0.79 strong\n",
    "- 0.80 - 1.0 very strong"
   ]
  },
  {
   "cell_type": "markdown",
   "id": "11dfad9e",
   "metadata": {},
   "source": [
    "**Covariance** - defines relationship between two variables (X and Y) by measuring how much two variables get changed together. Covariance can range from $+\\infty$ to $-\\infty$. Higher the number = higher dependency. It is affected by the scale variables are measured in.\n",
    "\n",
    "$cov(X,Y)$ = $\\frac{1}{n}\\sum_{i=1}^{n}(x_i-\\hat{x})(y_i-\\hat{y})$\n",
    "\n",
    "**Correlation** - defines how strongly two variables are related. Can range from $-1$ to $+1$. Is not affected by the scale. Higher the _absolute value_ of corr = higher dependency.\n",
    "\n",
    "_Sample correlation coefficient_: $r = \\frac{cov(X,Y)}{\\sqrt{var(X)}\\sqrt{var(Y)}}$\n",
    "\n",
    "The guide that Evans (_Evans JD. Straightforward Statistics for the Behavioral Sciences. Brooks/Cole Publishing; Pacific Grove, Calif.: 1996_) suggests for the absolute value of r:\n",
    "- 0.00 - 0.19 very weak\n",
    "- 0.20 - 0.39 weak\n",
    "- 0.40 - 0.59 moderate\n",
    "- 0.60 - 0.79 strong\n",
    "- 0.80 - 1.0 very strong"
   ]
  },
  {
   "cell_type": "code",
   "execution_count": 1,
   "id": "61de15f6",
   "metadata": {},
   "outputs": [],
   "source": [
    "import numpy as np"
   ]
  },
  {
   "cell_type": "code",
   "execution_count": 2,
   "id": "262a18e7",
   "metadata": {},
   "outputs": [
    {
     "data": {
      "text/plain": [
       "array([[0, 3, 4],\n",
       "       [1, 2, 4],\n",
       "       [3, 4, 5]])"
      ]
     },
     "execution_count": 2,
     "metadata": {},
     "output_type": "execute_result"
    }
   ],
   "source": [
    "matrix = np.array([[0, 3, 4], [1, 2, 4], [3, 4, 5]]) \n",
    "matrix"
   ]
  },
  {
   "cell_type": "markdown",
   "id": "a49d55b7",
   "metadata": {},
   "source": [
    "### Covariance example"
   ]
  },
  {
   "cell_type": "markdown",
   "id": "ea805645",
   "metadata": {},
   "source": [
    "Example of manual covariance calculation:\n",
    "\n",
    "Example for the 0th row (**NOTE #1** - in _numpy.cov_ each **row** of m represents a **variable**, and each column a single observation of all those variables).\n",
    "\n",
    "$\\hat{x}=\\frac{0+3+4}{3}$ = $\\frac{7}{3}$  (~2.3333)\n",
    "\n",
    "**NOTE #2** - if not specified, by default normalization (False) is by (**N - 1**), where N is the number of observations given (unbiased estimate). If bias is True, then normalization is by N.\n",
    "\n",
    "$cov(0,0)$ = $\\frac{1}{3-1}\\sum_{i=1}^{3}(x_i-\\hat{x})(y_i-\\hat{y})$ = $\\frac{1}{2}\\sum_{i=1}^{3}(x_i-\\hat{x})(x_i-\\hat{x})$ = $\\frac{1}{2}\\sum_{i=1}^{3}(x_i-\\hat{x})^2$ = $\\frac{1}{2}((0-\\frac{7}{3})^2+(3-\\frac{7}{3})^2+(4-\\frac{7}{3})^2$ = $\\frac{1}{2}((-\\frac{7}{3})^2+(\\frac{2}{3})^2+(\\frac{5}{3})^2)$ = $\\frac{1}{2}(\\frac{49}{9}+\\frac{4}{9}+\\frac{25}{9})$ = $\\frac{1}{2}\\frac{78}{9}$ = $\\frac{78}{18}$ (~4.333)"
   ]
  },
  {
   "cell_type": "code",
   "execution_count": 3,
   "id": "7771454d",
   "metadata": {},
   "outputs": [
    {
     "data": {
      "text/plain": [
       "array([[4.33333333, 2.83333333, 2.        ],\n",
       "       [2.83333333, 2.33333333, 1.5       ],\n",
       "       [2.        , 1.5       , 1.        ]])"
      ]
     },
     "execution_count": 3,
     "metadata": {},
     "output_type": "execute_result"
    }
   ],
   "source": [
    "np.cov(matrix)"
   ]
  },
  {
   "cell_type": "markdown",
   "id": "9a7cd537",
   "metadata": {},
   "source": [
    "Example when **bias=True** (i.e. denominator is **N** instead of (N-1))"
   ]
  },
  {
   "cell_type": "code",
   "execution_count": 4,
   "id": "48b69082",
   "metadata": {},
   "outputs": [
    {
     "data": {
      "text/plain": [
       "array([[2.88888889, 1.88888889, 1.33333333],\n",
       "       [1.88888889, 1.55555556, 1.        ],\n",
       "       [1.33333333, 1.        , 0.66666667]])"
      ]
     },
     "execution_count": 4,
     "metadata": {},
     "output_type": "execute_result"
    }
   ],
   "source": [
    "np.cov(matrix, bias=True)"
   ]
  },
  {
   "cell_type": "code",
   "execution_count": 5,
   "id": "eba3ae42",
   "metadata": {},
   "outputs": [
    {
     "data": {
      "text/plain": [
       "array([[4.33333333, 2.83333333, 2.        ],\n",
       "       [2.83333333, 2.33333333, 1.5       ],\n",
       "       [2.        , 1.5       , 1.        ]])"
      ]
     },
     "execution_count": 5,
     "metadata": {},
     "output_type": "execute_result"
    }
   ],
   "source": [
    "# another way of calculating cov matrix - multiplying matrix with it's transposne and dividing by N-1 \n",
    "from sklearn.preprocessing import StandardScaler\n",
    "\n",
    "# StandardScaler options - https://scikit-learn.org/stable/modules/generated/sklearn.preprocessing.StandardScaler.html\n",
    "matrix_centered = StandardScaler(with_std=False).fit_transform(matrix.T).T\n",
    "cov2 = np.matmul(matrix_centered, matrix_centered.T)/2\n",
    "cov2"
   ]
  },
  {
   "cell_type": "markdown",
   "id": "baf11be1",
   "metadata": {},
   "source": [
    "### Correlation example"
   ]
  },
  {
   "cell_type": "markdown",
   "id": "2b1b4ed3",
   "metadata": {},
   "source": [
    "Example of manual correlation coeficient calculation:\n",
    "\n",
    "r for rows 0 (x) and 1 (y):\n",
    "\n",
    "$r_{xy} = \\frac{cov(x,y)}{\\sqrt{var(x)\\sqrt{var(y)}}}$\n",
    "\n",
    "$\\hat{x} = \\frac{0+3+4}{3}=\\frac{7}{3}$\n",
    "\n",
    "$\\hat{y} = \\frac{1+2+4}{3}=\\frac{7}{3}$\n",
    "\n",
    "$cov(x,y) = \\frac{1}{3-1}\\sum_{i=1}^{3}((x_0-\\hat{x_0})(y_0-\\hat{y_0})) = ... = \\frac{1}{2}((0-\\frac{7}{3})(1-\\frac{7}{3})+(3-\\frac{7}{3})(2-\\frac{7}{3})+(4-\\frac{7}{3})(4-\\frac{7}{3}))=\\frac{1}{2}((-\\frac{7}{3}(-\\frac{4}{3}))+(\\frac{2}{3}(-\\frac{1}{3}))+(\\frac{5}{3}\\frac{5}{3}))=\\frac{1}{2}(\\frac{28}{9}+\\frac{-2}{9}+\\frac{25}{9})=\\frac{1}{2}\\frac{51}{9}=\\frac{51}{18}$\n",
    "\n",
    "(same as _$np.cov(matrix)[0][1]$_)\n",
    "\n",
    "$var(x) = s^2_x=\\frac{(0-\\frac{7}{3})^2+(3-\\frac{7}{3})^2+(4-\\frac{7}{3})^2}{3-1} = \\frac{78}{18}$\n",
    "\n",
    "$var(y) = s^2_y=\\frac{(1-\\frac{7}{3})^2+(2-\\frac{7}{3})^2+(4-\\frac{7}{3})^2}{3-1} = \\frac{42}{18}$\n",
    "\n",
    "$r_{xy}=\\frac{\\frac{51}{18}}{\\sqrt{\\frac{78}{18}}\\sqrt{\\frac{42}{18})}}\\approx0.89$"
   ]
  },
  {
   "cell_type": "code",
   "execution_count": 6,
   "id": "8c1b97aa",
   "metadata": {},
   "outputs": [
    {
     "data": {
      "text/plain": [
       "0.8910421112136306"
      ]
     },
     "execution_count": 6,
     "metadata": {},
     "output_type": "execute_result"
    }
   ],
   "source": [
    "# OR\n",
    "\n",
    "# NOTE \"ddof\" is parameter for unbiased estimator - “Delta Degrees of Freedom”: the divisor used in the calculation \n",
    "# is N - ddof, where N represents the number of elements. By default ddof is zero.\n",
    "var_x = np.var(matrix[0], ddof=1) \n",
    "var_y = np.var(matrix[1], ddof=1)\n",
    "cov_xy = np.cov(matrix)[0][1]\n",
    "r_xy = cov_xy/(var_x*var_y)**(1/2)\n",
    "\n",
    "r_xy"
   ]
  },
  {
   "cell_type": "code",
   "execution_count": 7,
   "id": "1d5237ea",
   "metadata": {},
   "outputs": [
    {
     "data": {
      "text/plain": [
       "array([[1.        , 0.89104211, 0.96076892],\n",
       "       [0.89104211, 1.        , 0.98198051],\n",
       "       [0.96076892, 0.98198051, 1.        ]])"
      ]
     },
     "execution_count": 7,
     "metadata": {},
     "output_type": "execute_result"
    }
   ],
   "source": [
    "np.corrcoef(matrix)"
   ]
  },
  {
   "cell_type": "markdown",
   "id": "0af84cca",
   "metadata": {},
   "source": [
    "### Iris dataset example"
   ]
  },
  {
   "cell_type": "code",
   "execution_count": 8,
   "id": "84bd9c71",
   "metadata": {},
   "outputs": [
    {
     "data": {
      "text/plain": [
       "array([[5.1, 3.5, 1.4, 0.2],\n",
       "       [4.9, 3. , 1.4, 0.2],\n",
       "       [4.7, 3.2, 1.3, 0.2],\n",
       "       [4.6, 3.1, 1.5, 0.2],\n",
       "       [5. , 3.6, 1.4, 0.2],\n",
       "       [5.4, 3.9, 1.7, 0.4],\n",
       "       [4.6, 3.4, 1.4, 0.3],\n",
       "       [5. , 3.4, 1.5, 0.2],\n",
       "       [4.4, 2.9, 1.4, 0.2],\n",
       "       [4.9, 3.1, 1.5, 0.1]])"
      ]
     },
     "execution_count": 8,
     "metadata": {},
     "output_type": "execute_result"
    }
   ],
   "source": [
    "import pandas as pd\n",
    "from sklearn import datasets \n",
    "import matplotlib.pyplot as plt\n",
    "\n",
    "iris = datasets.load_iris()\n",
    "iris.data[:10]"
   ]
  },
  {
   "cell_type": "code",
   "execution_count": 9,
   "id": "1782ac55",
   "metadata": {},
   "outputs": [
    {
     "data": {
      "text/plain": [
       "['sepal length (cm)',\n",
       " 'sepal width (cm)',\n",
       " 'petal length (cm)',\n",
       " 'petal width (cm)']"
      ]
     },
     "execution_count": 9,
     "metadata": {},
     "output_type": "execute_result"
    }
   ],
   "source": [
    "iris.feature_names"
   ]
  },
  {
   "cell_type": "code",
   "execution_count": 10,
   "id": "d1590b4b",
   "metadata": {},
   "outputs": [
    {
     "data": {
      "text/plain": [
       "array([[ 0.68569351, -0.042434  ,  1.27431544,  0.51627069],\n",
       "       [-0.042434  ,  0.18997942, -0.32965638, -0.12163937],\n",
       "       [ 1.27431544, -0.32965638,  3.11627785,  1.2956094 ],\n",
       "       [ 0.51627069, -0.12163937,  1.2956094 ,  0.58100626]])"
      ]
     },
     "execution_count": 10,
     "metadata": {},
     "output_type": "execute_result"
    }
   ],
   "source": [
    "cov_data = np.cov(iris.data.T)\n",
    "cov_data"
   ]
  },
  {
   "cell_type": "code",
   "execution_count": 11,
   "id": "cea6b1f3",
   "metadata": {},
   "outputs": [
    {
     "data": {
      "text/plain": [
       "array([[ 1.        , -0.11756978,  0.87175378,  0.81794113],\n",
       "       [-0.11756978,  1.        , -0.4284401 , -0.36612593],\n",
       "       [ 0.87175378, -0.4284401 ,  1.        ,  0.96286543],\n",
       "       [ 0.81794113, -0.36612593,  0.96286543,  1.        ]])"
      ]
     },
     "execution_count": 11,
     "metadata": {},
     "output_type": "execute_result"
    }
   ],
   "source": [
    "r = np.corrcoef(iris.data.T) # T so that rows would represent variables and columns - data\n",
    "r"
   ]
  },
  {
   "cell_type": "code",
   "execution_count": 12,
   "id": "cf3f8308",
   "metadata": {},
   "outputs": [
    {
     "data": {
      "text/plain": [
       "array([[ 1.        , -0.11756978,  0.87175378,  0.81794113],\n",
       "       [-0.11756978,  1.        , -0.4284401 , -0.36612593],\n",
       "       [ 0.87175378, -0.4284401 ,  1.        ,  0.96286543],\n",
       "       [ 0.81794113, -0.36612593,  0.96286543,  1.        ]])"
      ]
     },
     "execution_count": 12,
     "metadata": {},
     "output_type": "execute_result"
    }
   ],
   "source": [
    "# OR instead od transposing matrix we can pass rowvar=False, \n",
    "# meaning that each column represents a variable, while the rows contain observations\n",
    "np.corrcoef(iris.data, rowvar=False)"
   ]
  },
  {
   "cell_type": "code",
   "execution_count": 13,
   "id": "bae879d7",
   "metadata": {},
   "outputs": [
    {
     "data": {
      "image/png": "[encoded data removed]",
      "text/plain": [
       "<Figure size 288x288 with 2 Axes>"
      ]
     },
     "metadata": {
      "needs_background": "light"
     },
     "output_type": "display_data"
    }
   ],
   "source": [
    "img = plt.matshow(r, cmap=plt.cm.rainbow)\n",
    "plt.colorbar(img, ticks = [-1, 0, 1], fraction=0.045)\n",
    "\n",
    "# show r values on the heatmap\n",
    "for i in range(r.shape[0]):\n",
    "    for j in range(r.shape[1]):\n",
    "        r_ij = r[i,j]\n",
    "        if(r_ij>0.59):\n",
    "            plt.text(i, j, \"%0.2f\" % r_ij, weight='bold', size=12, ha=\"center\", va=\"center\")  \n",
    "        else:\n",
    "            plt.text(i, j, \"%0.2f\" % r_ij, size=10, ha=\"center\", va=\"center\")\n",
    "        \n",
    "plt.show()"
   ]
  },
  {
   "cell_type": "markdown",
   "id": "5c23d75f",
   "metadata": {},
   "source": [
    "### Multicollinearity"
   ]
  },
  {
   "cell_type": "markdown",
   "id": "b15a6bba",
   "metadata": {},
   "source": [
    "Multicollinearity occurs when independent variables are correlated (i.e. dependent on each other). It is a problem in  regression analysis since in regression analysis the regression coeficient represents the mean change in the dependent variable for each 1 unit change in an independent variable **when you hold all of the other independent variables constant**. "
   ]
  }
 ],
 "metadata": {
  "kernelspec": {
   "display_name": "Python 3",
   "language": "python",
   "name": "python3"
  },
  "language_info": {
   "codemirror_mode": {
    "name": "ipython",
    "version": 3
   },
   "file_extension": ".py",
   "mimetype": "text/x-python",
   "name": "python",
   "nbconvert_exporter": "python",
   "pygments_lexer": "ipython3",
   "version": "3.8.8"
  }
 },
 "nbformat": 4,
 "nbformat_minor": 5
}
