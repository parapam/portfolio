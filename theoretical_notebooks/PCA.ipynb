{
 "cells": [
  {
   "cell_type": "markdown",
   "id": "0f3d5566",
   "metadata": {},
   "source": [
    "## Principal Component Analysis"
   ]
  },
  {
   "cell_type": "markdown",
   "id": "d5871b38",
   "metadata": {},
   "source": [
    "PCA is one of **dimensionality reduction** methods (it's a linear, **unsupervised** method, _not_ a classifier).\n",
    "\n",
    "- *Dimensionality reduction* - transforming data from high-dimension to low-dimension (used for data compresion, easier visualiaztion, explanatory reasons (it's difficult for humans to interpret high-dimension data), to avoid **curse of dimensionality**, to building interpretable model);\n",
    "- *Curse of dimensionality* - set of all problems related to issues arising when working with high-dimension data sets;\n",
    "\n",
    "PCA tries to **maximize the variance** among the new axes (so that new axes would explain most of the variation/information in the data and we'd preserve distances in the original space (e.g. if in original space we have two points that are very far away from each other we want them to also be far away in reduced space))."
   ]
  },
  {
   "cell_type": "markdown",
   "id": "c70bfd56",
   "metadata": {},
   "source": [
    "#### Example"
   ]
  },
  {
   "cell_type": "code",
   "execution_count": 1,
   "id": "849320d1",
   "metadata": {},
   "outputs": [],
   "source": [
    "import pandas as pd\n",
    "import numpy as np\n",
    "from sklearn.datasets import load_iris\n",
    "from sklearn.preprocessing import StandardScaler\n",
    "import matplotlib.pyplot as plt"
   ]
  },
  {
   "cell_type": "code",
   "execution_count": 2,
   "id": "c4c0b119",
   "metadata": {},
   "outputs": [
    {
     "data": {
      "text/html": [
       "<div>\n",
       "<style scoped>\n",
       "    .dataframe tbody tr th:only-of-type {\n",
       "        vertical-align: middle;\n",
       "    }\n",
       "\n",
       "    .dataframe tbody tr th {\n",
       "        vertical-align: top;\n",
       "    }\n",
       "\n",
       "    .dataframe thead th {\n",
       "        text-align: right;\n",
       "    }\n",
       "</style>\n",
       "<table border=\"1\" class=\"dataframe\">\n",
       "  <thead>\n",
       "    <tr style=\"text-align: right;\">\n",
       "      <th></th>\n",
       "      <th>sepal length (cm)</th>\n",
       "      <th>sepal width (cm)</th>\n",
       "      <th>petal length (cm)</th>\n",
       "      <th>petal width (cm)</th>\n",
       "    </tr>\n",
       "  </thead>\n",
       "  <tbody>\n",
       "    <tr>\n",
       "      <th>0</th>\n",
       "      <td>5.1</td>\n",
       "      <td>3.5</td>\n",
       "      <td>1.4</td>\n",
       "      <td>0.2</td>\n",
       "    </tr>\n",
       "    <tr>\n",
       "      <th>1</th>\n",
       "      <td>4.9</td>\n",
       "      <td>3.0</td>\n",
       "      <td>1.4</td>\n",
       "      <td>0.2</td>\n",
       "    </tr>\n",
       "    <tr>\n",
       "      <th>2</th>\n",
       "      <td>4.7</td>\n",
       "      <td>3.2</td>\n",
       "      <td>1.3</td>\n",
       "      <td>0.2</td>\n",
       "    </tr>\n",
       "    <tr>\n",
       "      <th>3</th>\n",
       "      <td>4.6</td>\n",
       "      <td>3.1</td>\n",
       "      <td>1.5</td>\n",
       "      <td>0.2</td>\n",
       "    </tr>\n",
       "    <tr>\n",
       "      <th>4</th>\n",
       "      <td>5.0</td>\n",
       "      <td>3.6</td>\n",
       "      <td>1.4</td>\n",
       "      <td>0.2</td>\n",
       "    </tr>\n",
       "    <tr>\n",
       "      <th>...</th>\n",
       "      <td>...</td>\n",
       "      <td>...</td>\n",
       "      <td>...</td>\n",
       "      <td>...</td>\n",
       "    </tr>\n",
       "    <tr>\n",
       "      <th>145</th>\n",
       "      <td>6.7</td>\n",
       "      <td>3.0</td>\n",
       "      <td>5.2</td>\n",
       "      <td>2.3</td>\n",
       "    </tr>\n",
       "    <tr>\n",
       "      <th>146</th>\n",
       "      <td>6.3</td>\n",
       "      <td>2.5</td>\n",
       "      <td>5.0</td>\n",
       "      <td>1.9</td>\n",
       "    </tr>\n",
       "    <tr>\n",
       "      <th>147</th>\n",
       "      <td>6.5</td>\n",
       "      <td>3.0</td>\n",
       "      <td>5.2</td>\n",
       "      <td>2.0</td>\n",
       "    </tr>\n",
       "    <tr>\n",
       "      <th>148</th>\n",
       "      <td>6.2</td>\n",
       "      <td>3.4</td>\n",
       "      <td>5.4</td>\n",
       "      <td>2.3</td>\n",
       "    </tr>\n",
       "    <tr>\n",
       "      <th>149</th>\n",
       "      <td>5.9</td>\n",
       "      <td>3.0</td>\n",
       "      <td>5.1</td>\n",
       "      <td>1.8</td>\n",
       "    </tr>\n",
       "  </tbody>\n",
       "</table>\n",
       "<p>150 rows × 4 columns</p>\n",
       "</div>"
      ],
      "text/plain": [
       "     sepal length (cm)  sepal width (cm)  petal length (cm)  petal width (cm)\n",
       "0                  5.1               3.5                1.4               0.2\n",
       "1                  4.9               3.0                1.4               0.2\n",
       "2                  4.7               3.2                1.3               0.2\n",
       "3                  4.6               3.1                1.5               0.2\n",
       "4                  5.0               3.6                1.4               0.2\n",
       "..                 ...               ...                ...               ...\n",
       "145                6.7               3.0                5.2               2.3\n",
       "146                6.3               2.5                5.0               1.9\n",
       "147                6.5               3.0                5.2               2.0\n",
       "148                6.2               3.4                5.4               2.3\n",
       "149                5.9               3.0                5.1               1.8\n",
       "\n",
       "[150 rows x 4 columns]"
      ]
     },
     "execution_count": 2,
     "metadata": {},
     "output_type": "execute_result"
    }
   ],
   "source": [
    "iris = load_iris()\n",
    "df = pd.DataFrame(data=iris.data, columns=iris.feature_names)\n",
    "df"
   ]
  },
  {
   "cell_type": "markdown",
   "id": "3f013630",
   "metadata": {},
   "source": [
    "Data preprocessing - be sure to **standartize your data** (more on why [here](https://scikit-learn.org/stable/auto_examples/preprocessing/plot_scaling_importance.html#sphx-glr-auto-examples-preprocessing-plot-scaling-importance-py) or [here](https://stats.stackexchange.com/questions/53/pca-on-correlation-or-covariance)). Possible ways:\n",
    "- Use StandardScaler() (_pd.DataFrame(scaler.fit_transform(df), columns=iris.feature_names)_);\n",
    "- _for name in df.columns: df[name] = (df[name]-df[name].mean())/df[name].std()_;\n",
    "- Use _correlation_ matrix (not covariance) when dealing with matrices;"
   ]
  },
  {
   "cell_type": "code",
   "execution_count": 3,
   "id": "05696583",
   "metadata": {},
   "outputs": [
    {
     "data": {
      "text/html": [
       "<div>\n",
       "<style scoped>\n",
       "    .dataframe tbody tr th:only-of-type {\n",
       "        vertical-align: middle;\n",
       "    }\n",
       "\n",
       "    .dataframe tbody tr th {\n",
       "        vertical-align: top;\n",
       "    }\n",
       "\n",
       "    .dataframe thead th {\n",
       "        text-align: right;\n",
       "    }\n",
       "</style>\n",
       "<table border=\"1\" class=\"dataframe\">\n",
       "  <thead>\n",
       "    <tr style=\"text-align: right;\">\n",
       "      <th></th>\n",
       "      <th>sepal length (cm)</th>\n",
       "      <th>sepal width (cm)</th>\n",
       "      <th>petal length (cm)</th>\n",
       "      <th>petal width (cm)</th>\n",
       "    </tr>\n",
       "  </thead>\n",
       "  <tbody>\n",
       "    <tr>\n",
       "      <th>sepal length (cm)</th>\n",
       "      <td>1.000000</td>\n",
       "      <td>-0.117570</td>\n",
       "      <td>0.871754</td>\n",
       "      <td>0.817941</td>\n",
       "    </tr>\n",
       "    <tr>\n",
       "      <th>sepal width (cm)</th>\n",
       "      <td>-0.117570</td>\n",
       "      <td>1.000000</td>\n",
       "      <td>-0.428440</td>\n",
       "      <td>-0.366126</td>\n",
       "    </tr>\n",
       "    <tr>\n",
       "      <th>petal length (cm)</th>\n",
       "      <td>0.871754</td>\n",
       "      <td>-0.428440</td>\n",
       "      <td>1.000000</td>\n",
       "      <td>0.962865</td>\n",
       "    </tr>\n",
       "    <tr>\n",
       "      <th>petal width (cm)</th>\n",
       "      <td>0.817941</td>\n",
       "      <td>-0.366126</td>\n",
       "      <td>0.962865</td>\n",
       "      <td>1.000000</td>\n",
       "    </tr>\n",
       "  </tbody>\n",
       "</table>\n",
       "</div>"
      ],
      "text/plain": [
       "                   sepal length (cm)  sepal width (cm)  petal length (cm)  \\\n",
       "sepal length (cm)           1.000000         -0.117570           0.871754   \n",
       "sepal width (cm)           -0.117570          1.000000          -0.428440   \n",
       "petal length (cm)           0.871754         -0.428440           1.000000   \n",
       "petal width (cm)            0.817941         -0.366126           0.962865   \n",
       "\n",
       "                   petal width (cm)  \n",
       "sepal length (cm)          0.817941  \n",
       "sepal width (cm)          -0.366126  \n",
       "petal length (cm)          0.962865  \n",
       "petal width (cm)           1.000000  "
      ]
     },
     "execution_count": 3,
     "metadata": {},
     "output_type": "execute_result"
    }
   ],
   "source": [
    "# using the correlation matrix is equivalent to standardizing the data\n",
    "cor = df.corr() # instead of np.corrcoef(df.to_numpy().T) where we need to transpose the matrix df.corr() takes care of everything\n",
    "cor"
   ]
  },
  {
   "cell_type": "code",
   "execution_count": 4,
   "id": "e4422287",
   "metadata": {},
   "outputs": [
    {
     "data": {
      "image/png": "[encoded data removed]",
      "text/plain": [
       "<Figure size 432x288 with 2 Axes>"
      ]
     },
     "metadata": {
      "needs_background": "light"
     },
     "output_type": "display_data"
    }
   ],
   "source": [
    "import seaborn as sns\n",
    "\n",
    "heatmap = sns.heatmap(cor, annot=True, vmax=1, vmin=-1)"
   ]
  },
  {
   "cell_type": "markdown",
   "id": "9ad59726",
   "metadata": {},
   "source": [
    "From the heatmap we see that the _Petal Length_ and _Petal Width_ are highly correlated (correlation = 0.96) so it might indicate that it's a good idea to use the linear combination of these two features."
   ]
  },
  {
   "cell_type": "code",
   "execution_count": 5,
   "id": "8c4d999d",
   "metadata": {},
   "outputs": [
    {
     "name": "stdout",
     "output_type": "stream",
     "text": [
      "eigenvalues: [0.02071484 0.14675688 0.91403047 2.91849782]\n",
      "eigenvectors: \n",
      " [[ 0.26128628  0.71956635  0.37741762 -0.52106591]\n",
      " [-0.12350962 -0.24438178  0.92329566  0.26934744]\n",
      " [-0.80144925 -0.14212637  0.02449161 -0.5804131 ]\n",
      " [ 0.52359713 -0.63427274  0.06694199 -0.56485654]]\n",
      "\n",
      "principal components:\n",
      "Feature 1 : 0.021\n",
      "Feature 2 : 0.147\n",
      "Feature 3 : 0.914\n",
      "Feature 4 : 2.918\n"
     ]
    }
   ],
   "source": [
    "# find the eigenvalue (D) and eigenvector (V) of the correlation matrix\n",
    "D, V = np.linalg.eigh(cor) \n",
    "print(f'eigenvalues: {D}')\n",
    "print(f'eigenvectors: \\n {V}')\n",
    "\n",
    "print('\\nprincipal components:')\n",
    "for i in range(0, len(D)):\n",
    "    print('Feature %d : %2.3f'%(i+1, D[i]))"
   ]
  },
  {
   "cell_type": "code",
   "execution_count": 6,
   "id": "f3f0ed40",
   "metadata": {},
   "outputs": [
    {
     "data": {
      "text/html": [
       "<div>\n",
       "<style scoped>\n",
       "    .dataframe tbody tr th:only-of-type {\n",
       "        vertical-align: middle;\n",
       "    }\n",
       "\n",
       "    .dataframe tbody tr th {\n",
       "        vertical-align: top;\n",
       "    }\n",
       "\n",
       "    .dataframe thead th {\n",
       "        text-align: right;\n",
       "    }\n",
       "</style>\n",
       "<table border=\"1\" class=\"dataframe\">\n",
       "  <thead>\n",
       "    <tr style=\"text-align: right;\">\n",
       "      <th></th>\n",
       "      <th>0</th>\n",
       "      <th>1</th>\n",
       "      <th>2</th>\n",
       "      <th>3</th>\n",
       "    </tr>\n",
       "  </thead>\n",
       "  <tbody>\n",
       "    <tr>\n",
       "      <th>0</th>\n",
       "      <td>0.024168</td>\n",
       "      <td>0.127706</td>\n",
       "      <td>0.480027</td>\n",
       "      <td>2.264703</td>\n",
       "    </tr>\n",
       "    <tr>\n",
       "      <th>1</th>\n",
       "      <td>0.103007</td>\n",
       "      <td>0.234609</td>\n",
       "      <td>-0.674134</td>\n",
       "      <td>2.080961</td>\n",
       "    </tr>\n",
       "    <tr>\n",
       "      <th>2</th>\n",
       "      <td>0.028377</td>\n",
       "      <td>-0.044201</td>\n",
       "      <td>-0.341908</td>\n",
       "      <td>2.364229</td>\n",
       "    </tr>\n",
       "    <tr>\n",
       "      <th>3</th>\n",
       "      <td>-0.065956</td>\n",
       "      <td>-0.091290</td>\n",
       "      <td>-0.597395</td>\n",
       "      <td>2.299384</td>\n",
       "    </tr>\n",
       "    <tr>\n",
       "      <th>4</th>\n",
       "      <td>-0.035923</td>\n",
       "      <td>-0.015738</td>\n",
       "      <td>0.646835</td>\n",
       "      <td>2.389842</td>\n",
       "    </tr>\n",
       "    <tr>\n",
       "      <th>...</th>\n",
       "      <td>...</td>\n",
       "      <td>...</td>\n",
       "      <td>...</td>\n",
       "      <td>...</td>\n",
       "    </tr>\n",
       "    <tr>\n",
       "      <th>145</th>\n",
       "      <td>0.389257</td>\n",
       "      <td>-0.256274</td>\n",
       "      <td>0.386966</td>\n",
       "      <td>-1.870503</td>\n",
       "    </tr>\n",
       "    <tr>\n",
       "      <th>146</th>\n",
       "      <td>0.220192</td>\n",
       "      <td>0.026371</td>\n",
       "      <td>-0.896687</td>\n",
       "      <td>-1.564580</td>\n",
       "    </tr>\n",
       "    <tr>\n",
       "      <th>147</th>\n",
       "      <td>0.119171</td>\n",
       "      <td>-0.180178</td>\n",
       "      <td>0.269069</td>\n",
       "      <td>-1.521170</td>\n",
       "    </tr>\n",
       "    <tr>\n",
       "      <th>148</th>\n",
       "      <td>0.026129</td>\n",
       "      <td>-0.933395</td>\n",
       "      <td>1.011254</td>\n",
       "      <td>-1.372788</td>\n",
       "    </tr>\n",
       "    <tr>\n",
       "      <th>149</th>\n",
       "      <td>-0.163078</td>\n",
       "      <td>-0.528249</td>\n",
       "      <td>-0.024332</td>\n",
       "      <td>-0.960656</td>\n",
       "    </tr>\n",
       "  </tbody>\n",
       "</table>\n",
       "<p>150 rows × 4 columns</p>\n",
       "</div>"
      ],
      "text/plain": [
       "            0         1         2         3\n",
       "0    0.024168  0.127706  0.480027  2.264703\n",
       "1    0.103007  0.234609 -0.674134  2.080961\n",
       "2    0.028377 -0.044201 -0.341908  2.364229\n",
       "3   -0.065956 -0.091290 -0.597395  2.299384\n",
       "4   -0.035923 -0.015738  0.646835  2.389842\n",
       "..        ...       ...       ...       ...\n",
       "145  0.389257 -0.256274  0.386966 -1.870503\n",
       "146  0.220192  0.026371 -0.896687 -1.564580\n",
       "147  0.119171 -0.180178  0.269069 -1.521170\n",
       "148  0.026129 -0.933395  1.011254 -1.372788\n",
       "149 -0.163078 -0.528249 -0.024332 -0.960656\n",
       "\n",
       "[150 rows x 4 columns]"
      ]
     },
     "execution_count": 6,
     "metadata": {},
     "output_type": "execute_result"
    }
   ],
   "source": [
    "# perform the linear transformation for the features\n",
    "df_stnd = pd.DataFrame(StandardScaler().fit_transform(df))\n",
    "X_new = df_stnd.dot(V)\n",
    "X_new"
   ]
  },
  {
   "cell_type": "code",
   "execution_count": 7,
   "id": "10c989e5",
   "metadata": {},
   "outputs": [
    {
     "data": {
      "image/png": "[encoded data removed]",
      "text/plain": [
       "<Figure size 432x288 with 2 Axes>"
      ]
     },
     "metadata": {
      "needs_background": "light"
     },
     "output_type": "display_data"
    }
   ],
   "source": [
    "# The correlation between different features disappear\n",
    "sns.heatmap(X_new.corr(), vmin = -1, vmax = 1, annot = True, fmt = '2.2f')\n",
    "plt.show()"
   ]
  },
  {
   "cell_type": "code",
   "execution_count": 8,
   "id": "93c013bf",
   "metadata": {},
   "outputs": [
    {
     "data": {
      "image/png": "[encoded data removed]",
      "text/plain": [
       "<Figure size 432x288 with 1 Axes>"
      ]
     },
     "metadata": {
      "needs_background": "light"
     },
     "output_type": "display_data"
    }
   ],
   "source": [
    "# perform dimensional reduction\n",
    "# we're keeping only features 3 and 4 (chosen because of their highest PCs' values)\n",
    "V_trun = V[:,2:4]\n",
    "X_reduced = df.copy().dot(V_trun)\n",
    "X_reduced['Species'] = iris.target\n",
    "X_reduced.columns = ['Feature 3', 'Feature 4', 'Species']\n",
    "\n",
    "for i, t in enumerate(iris.target_names):\n",
    "    X_reduced['Species'].replace(i, t, inplace=True)\n",
    "    \n",
    "sns.scatterplot(data=X_reduced, x='Feature 3', y='Feature 4', hue='Species')\n",
    "plt.show()"
   ]
  },
  {
   "cell_type": "markdown",
   "id": "4807eaa6",
   "metadata": {},
   "source": [
    "### Or we can use PCA function from sklearn:"
   ]
  },
  {
   "cell_type": "code",
   "execution_count": 9,
   "id": "d6a76970",
   "metadata": {},
   "outputs": [
    {
     "data": {
      "text/html": [
       "<div>\n",
       "<style scoped>\n",
       "    .dataframe tbody tr th:only-of-type {\n",
       "        vertical-align: middle;\n",
       "    }\n",
       "\n",
       "    .dataframe tbody tr th {\n",
       "        vertical-align: top;\n",
       "    }\n",
       "\n",
       "    .dataframe thead th {\n",
       "        text-align: right;\n",
       "    }\n",
       "</style>\n",
       "<table border=\"1\" class=\"dataframe\">\n",
       "  <thead>\n",
       "    <tr style=\"text-align: right;\">\n",
       "      <th></th>\n",
       "      <th>Feature 1</th>\n",
       "      <th>Feature 2</th>\n",
       "      <th>Species</th>\n",
       "    </tr>\n",
       "  </thead>\n",
       "  <tbody>\n",
       "    <tr>\n",
       "      <th>0</th>\n",
       "      <td>-2.264703</td>\n",
       "      <td>0.480027</td>\n",
       "      <td>0</td>\n",
       "    </tr>\n",
       "    <tr>\n",
       "      <th>1</th>\n",
       "      <td>-2.080961</td>\n",
       "      <td>-0.674134</td>\n",
       "      <td>0</td>\n",
       "    </tr>\n",
       "    <tr>\n",
       "      <th>2</th>\n",
       "      <td>-2.364229</td>\n",
       "      <td>-0.341908</td>\n",
       "      <td>0</td>\n",
       "    </tr>\n",
       "    <tr>\n",
       "      <th>3</th>\n",
       "      <td>-2.299384</td>\n",
       "      <td>-0.597395</td>\n",
       "      <td>0</td>\n",
       "    </tr>\n",
       "    <tr>\n",
       "      <th>4</th>\n",
       "      <td>-2.389842</td>\n",
       "      <td>0.646835</td>\n",
       "      <td>0</td>\n",
       "    </tr>\n",
       "    <tr>\n",
       "      <th>...</th>\n",
       "      <td>...</td>\n",
       "      <td>...</td>\n",
       "      <td>...</td>\n",
       "    </tr>\n",
       "    <tr>\n",
       "      <th>145</th>\n",
       "      <td>1.870503</td>\n",
       "      <td>0.386966</td>\n",
       "      <td>2</td>\n",
       "    </tr>\n",
       "    <tr>\n",
       "      <th>146</th>\n",
       "      <td>1.564580</td>\n",
       "      <td>-0.896687</td>\n",
       "      <td>2</td>\n",
       "    </tr>\n",
       "    <tr>\n",
       "      <th>147</th>\n",
       "      <td>1.521170</td>\n",
       "      <td>0.269069</td>\n",
       "      <td>2</td>\n",
       "    </tr>\n",
       "    <tr>\n",
       "      <th>148</th>\n",
       "      <td>1.372788</td>\n",
       "      <td>1.011254</td>\n",
       "      <td>2</td>\n",
       "    </tr>\n",
       "    <tr>\n",
       "      <th>149</th>\n",
       "      <td>0.960656</td>\n",
       "      <td>-0.024332</td>\n",
       "      <td>2</td>\n",
       "    </tr>\n",
       "  </tbody>\n",
       "</table>\n",
       "<p>150 rows × 3 columns</p>\n",
       "</div>"
      ],
      "text/plain": [
       "     Feature 1  Feature 2  Species\n",
       "0    -2.264703   0.480027        0\n",
       "1    -2.080961  -0.674134        0\n",
       "2    -2.364229  -0.341908        0\n",
       "3    -2.299384  -0.597395        0\n",
       "4    -2.389842   0.646835        0\n",
       "..         ...        ...      ...\n",
       "145   1.870503   0.386966        2\n",
       "146   1.564580  -0.896687        2\n",
       "147   1.521170   0.269069        2\n",
       "148   1.372788   1.011254        2\n",
       "149   0.960656  -0.024332        2\n",
       "\n",
       "[150 rows x 3 columns]"
      ]
     },
     "execution_count": 9,
     "metadata": {},
     "output_type": "execute_result"
    }
   ],
   "source": [
    "from sklearn.decomposition import PCA\n",
    "\n",
    "# NOTE that after dimensionality reduction axes (principal components) have no particular meaning - they are\n",
    "# compositions of other features\n",
    "pca = PCA(n_components = 2, random_state = 0)\n",
    "\n",
    "df_stnd = pd.DataFrame(StandardScaler().fit_transform(df))\n",
    "\n",
    "df_reduced = pca.fit(df_stnd).transform(df_stnd)\n",
    "df_reduced = pd.DataFrame(df_reduced)\n",
    "df_reduced.columns = ['Feature 1', 'Feature 2']\n",
    "df_reduced['Species'] = iris.target\n",
    "\n",
    "df_reduced"
   ]
  },
  {
   "cell_type": "code",
   "execution_count": 10,
   "id": "fae05238",
   "metadata": {},
   "outputs": [
    {
     "data": {
      "text/plain": [
       "array([0.72962445, 0.22850762])"
      ]
     },
     "execution_count": 10,
     "metadata": {},
     "output_type": "execute_result"
    }
   ],
   "source": [
    "pca.explained_variance_ratio_"
   ]
  },
  {
   "cell_type": "code",
   "execution_count": 11,
   "id": "e9d15455",
   "metadata": {},
   "outputs": [
    {
     "data": {
      "image/png": "[encoded data removed]",
      "text/plain": [
       "<Figure size 432x288 with 1 Axes>"
      ]
     },
     "metadata": {
      "needs_background": "light"
     },
     "output_type": "display_data"
    }
   ],
   "source": [
    "sns.scatterplot(data=df_reduced, x='Feature 1', y='Feature 2', hue='Species')\n",
    "plt.show()"
   ]
  },
  {
   "cell_type": "markdown",
   "id": "5ee9451b",
   "metadata": {},
   "source": [
    "Dimesnions can be also reduced to 1:"
   ]
  },
  {
   "cell_type": "code",
   "execution_count": 12,
   "id": "da47db59",
   "metadata": {},
   "outputs": [
    {
     "data": {
      "text/html": [
       "<div>\n",
       "<style scoped>\n",
       "    .dataframe tbody tr th:only-of-type {\n",
       "        vertical-align: middle;\n",
       "    }\n",
       "\n",
       "    .dataframe tbody tr th {\n",
       "        vertical-align: top;\n",
       "    }\n",
       "\n",
       "    .dataframe thead th {\n",
       "        text-align: right;\n",
       "    }\n",
       "</style>\n",
       "<table border=\"1\" class=\"dataframe\">\n",
       "  <thead>\n",
       "    <tr style=\"text-align: right;\">\n",
       "      <th></th>\n",
       "      <th>Feature 1</th>\n",
       "      <th>Species</th>\n",
       "    </tr>\n",
       "  </thead>\n",
       "  <tbody>\n",
       "    <tr>\n",
       "      <th>0</th>\n",
       "      <td>-2.264703</td>\n",
       "      <td>0</td>\n",
       "    </tr>\n",
       "    <tr>\n",
       "      <th>1</th>\n",
       "      <td>-2.080961</td>\n",
       "      <td>0</td>\n",
       "    </tr>\n",
       "    <tr>\n",
       "      <th>2</th>\n",
       "      <td>-2.364229</td>\n",
       "      <td>0</td>\n",
       "    </tr>\n",
       "    <tr>\n",
       "      <th>3</th>\n",
       "      <td>-2.299384</td>\n",
       "      <td>0</td>\n",
       "    </tr>\n",
       "    <tr>\n",
       "      <th>4</th>\n",
       "      <td>-2.389842</td>\n",
       "      <td>0</td>\n",
       "    </tr>\n",
       "    <tr>\n",
       "      <th>...</th>\n",
       "      <td>...</td>\n",
       "      <td>...</td>\n",
       "    </tr>\n",
       "    <tr>\n",
       "      <th>145</th>\n",
       "      <td>1.870503</td>\n",
       "      <td>2</td>\n",
       "    </tr>\n",
       "    <tr>\n",
       "      <th>146</th>\n",
       "      <td>1.564580</td>\n",
       "      <td>2</td>\n",
       "    </tr>\n",
       "    <tr>\n",
       "      <th>147</th>\n",
       "      <td>1.521170</td>\n",
       "      <td>2</td>\n",
       "    </tr>\n",
       "    <tr>\n",
       "      <th>148</th>\n",
       "      <td>1.372788</td>\n",
       "      <td>2</td>\n",
       "    </tr>\n",
       "    <tr>\n",
       "      <th>149</th>\n",
       "      <td>0.960656</td>\n",
       "      <td>2</td>\n",
       "    </tr>\n",
       "  </tbody>\n",
       "</table>\n",
       "<p>150 rows × 2 columns</p>\n",
       "</div>"
      ],
      "text/plain": [
       "     Feature 1  Species\n",
       "0    -2.264703        0\n",
       "1    -2.080961        0\n",
       "2    -2.364229        0\n",
       "3    -2.299384        0\n",
       "4    -2.389842        0\n",
       "..         ...      ...\n",
       "145   1.870503        2\n",
       "146   1.564580        2\n",
       "147   1.521170        2\n",
       "148   1.372788        2\n",
       "149   0.960656        2\n",
       "\n",
       "[150 rows x 2 columns]"
      ]
     },
     "execution_count": 12,
     "metadata": {},
     "output_type": "execute_result"
    }
   ],
   "source": [
    "pca1 = PCA(n_components = 1)\n",
    "\n",
    "df_stnd1 = pd.DataFrame(StandardScaler().fit_transform(df))\n",
    "\n",
    "df_reduced1 = pca1.fit_transform(df_stnd1)\n",
    "df_reduced1 = pd.DataFrame(df_reduced1)\n",
    "df_reduced1.columns = ['Feature 1']\n",
    "df_reduced1['Species'] = iris.target\n",
    "\n",
    "df_reduced1"
   ]
  },
  {
   "cell_type": "code",
   "execution_count": 13,
   "id": "6c8ca395",
   "metadata": {},
   "outputs": [
    {
     "data": {
      "text/plain": [
       "array([0.72962445])"
      ]
     },
     "execution_count": 13,
     "metadata": {},
     "output_type": "execute_result"
    }
   ],
   "source": [
    "pca1.explained_variance_ratio_"
   ]
  },
  {
   "cell_type": "code",
   "execution_count": 14,
   "id": "67f30136",
   "metadata": {},
   "outputs": [
    {
     "data": {
      "image/png": "[encoded data removed]",
      "text/plain": [
       "<Figure size 432x288 with 1 Axes>"
      ]
     },
     "metadata": {
      "needs_background": "light"
     },
     "output_type": "display_data"
    }
   ],
   "source": [
    "colors = {0:'red', 1: 'blue', 2:'green'}\n",
    "feature_1 = df_reduced1['Feature 1']\n",
    "plt.scatter(feature_1, y=np.zeros_like(feature_1), c=df_reduced1['Species'].map(colors))\n",
    "plt.ylim(-0.01, 0.01)\n",
    "plt.show()"
   ]
  },
  {
   "cell_type": "markdown",
   "id": "0d656189",
   "metadata": {},
   "source": [
    "#### Practical issues\n",
    "\n",
    "- sensitive to the scale of measurements (e.g. height in mm). Can be fixed with data standartization;\n",
    "- sensitive to outliers. Can be fixed with removing outliers before analysis;\n",
    "- assumes linearity. It is advised to turn non-linear features or relationships between features into linear, using the standard methods such as log transforms;\n",
    "\n",
    "More - https://onlinelibrary.wiley.com/doi/10.1111/evo.13835."
   ]
  },
  {
   "cell_type": "markdown",
   "id": "aa342d2e",
   "metadata": {},
   "source": [
    "#### Extra"
   ]
  },
  {
   "cell_type": "markdown",
   "id": "3d085f79",
   "metadata": {},
   "source": [
    "PCA vs linear regression: \n",
    "- There's no dependent variable in the PCA (it's unsupervised method, all the variables are treated the same) while for linear regression we define a dependent variable.\n",
    "- For PCA the error squares are minimized **perpendicular** to the straight line (_orthogonal distance_) while for linear regression we want to minize the error between point and the straight line in the **y-direction** (which is the variable we're trying to predict).\n",
    "\n",
    "\n",
    "Math behind explained in more detail - https://towardsdatascience.com/pca-clearly-explained-how-when-why-to-use-it-and-feature-importance-a-guide-in-python-7c274582c37e"
   ]
  }
 ],
 "metadata": {
  "kernelspec": {
   "display_name": "Python 3",
   "language": "python",
   "name": "python3"
  },
  "language_info": {
   "codemirror_mode": {
    "name": "ipython",
    "version": 3
   },
   "file_extension": ".py",
   "mimetype": "text/x-python",
   "name": "python",
   "nbconvert_exporter": "python",
   "pygments_lexer": "ipython3",
   "version": "3.8.8"
  }
 },
 "nbformat": 4,
 "nbformat_minor": 5
}
