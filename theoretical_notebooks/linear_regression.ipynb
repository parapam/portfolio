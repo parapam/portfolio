{
 "cells": [
  {
   "cell_type": "markdown",
   "id": "45d27696",
   "metadata": {},
   "source": [
    "## Linear regression"
   ]
  },
  {
   "cell_type": "markdown",
   "id": "8c9ce165",
   "metadata": {},
   "source": [
    "General form:\n",
    "\n",
    "$y=\\beta_0+\\beta_1x_1+\\beta_2x_2+\\beta_3x_3 + ... + \\beta_nx_n$\n",
    "\n",
    "$\\beta_0$ - the bias term (value of y when all features are equal to zero);\n",
    "\n",
    "Model that assumes linear relationship between independent variables (X) and output (depenedent variable, y).\n",
    "Linear regression refers to any approach for finding this relationship.\n",
    "\n",
    "**NOTE** - model is still considered to be linear if $x^n$, where $n>1$ (because it is x that's raised to the power, not the coeficients).\n",
    "\n",
    "If there's single x method is called _simple linear regression_ ($y=\\alpha+\\beta x$), when there're multiple input variables - _multiple linear regression_ (not to be confused with _multivariate regression_ where there're multiple dependent variables ($y_1, ..., y_n$))."
   ]
  },
  {
   "cell_type": "markdown",
   "id": "565c8ba6",
   "metadata": {},
   "source": [
    "Optimization methods:\n",
    "- Ordinary Least Squares (numerical approach, only for linear regression);\n",
    "- Gradient Descent (analytical approach, universal for other types of problems, for most of the linear regression problems there's single solution (i.e. single minima));"
   ]
  },
  {
   "cell_type": "markdown",
   "id": "caa87eef",
   "metadata": {},
   "source": [
    "### Ordinary Least Squares"
   ]
  },
  {
   "cell_type": "markdown",
   "id": "2db128e6",
   "metadata": {},
   "source": [
    "Coeficients found by minimizing sum of squared residuals (SSE):\n",
    "\n",
    "$SSE=\\sum_{i=1}^n(y - y_i)^2$, where $y_i=\\alpha+\\beta x$\n",
    "\n",
    "Minimization for _simple linear regression_ ($y=\\alpha+\\beta x$): \n",
    "1. find partial derivatives with respect to $\\alpha$ and $\\beta $;\n",
    "2. set them to 0 (sicne derivative is zero at stationary points);\n",
    "3. solve for $\\alpha$ and $\\beta$;\n",
    "\n",
    "Result:\n",
    "\n",
    "$\\alpha=\\hat{y}-\\beta\\hat{x}$ ($\\hat{y}$, $\\hat{x}$ - means)\n",
    "\n",
    "$\\beta=\\frac{\\sum_{i=1}^{n}(y_i-\\hat{y})(x_i-\\hat{x})}{\\sum_{i=1}^{n}(x_i-\\hat{x})^2}$\n",
    "\n",
    "Implementation - **sklearn.linear_model.LinearRegression()**\n",
    "\n",
    "General formula for sollving $y=\\beta_0+\\sum_{i=1}^{n}\\beta_ix_i$ for minimal $\\beta$:\n",
    "\n",
    "$\\beta=(X^TX)^{-1}X^Ty$ (here $\\beta$ - vector of the coeficients)"
   ]
  },
  {
   "cell_type": "code",
   "execution_count": 1,
   "id": "2b635a76",
   "metadata": {},
   "outputs": [
    {
     "data": {
      "text/html": [
       "<div>\n",
       "<style scoped>\n",
       "    .dataframe tbody tr th:only-of-type {\n",
       "        vertical-align: middle;\n",
       "    }\n",
       "\n",
       "    .dataframe tbody tr th {\n",
       "        vertical-align: top;\n",
       "    }\n",
       "\n",
       "    .dataframe thead th {\n",
       "        text-align: right;\n",
       "    }\n",
       "</style>\n",
       "<table border=\"1\" class=\"dataframe\">\n",
       "  <thead>\n",
       "    <tr style=\"text-align: right;\">\n",
       "      <th></th>\n",
       "      <th>age</th>\n",
       "      <th>sex</th>\n",
       "      <th>bmi</th>\n",
       "      <th>bp</th>\n",
       "      <th>s1</th>\n",
       "      <th>s2</th>\n",
       "      <th>s3</th>\n",
       "      <th>s4</th>\n",
       "      <th>s5</th>\n",
       "      <th>s6</th>\n",
       "    </tr>\n",
       "  </thead>\n",
       "  <tbody>\n",
       "    <tr>\n",
       "      <th>count</th>\n",
       "      <td>4.420000e+02</td>\n",
       "      <td>4.420000e+02</td>\n",
       "      <td>4.420000e+02</td>\n",
       "      <td>4.420000e+02</td>\n",
       "      <td>4.420000e+02</td>\n",
       "      <td>4.420000e+02</td>\n",
       "      <td>4.420000e+02</td>\n",
       "      <td>4.420000e+02</td>\n",
       "      <td>4.420000e+02</td>\n",
       "      <td>4.420000e+02</td>\n",
       "    </tr>\n",
       "    <tr>\n",
       "      <th>mean</th>\n",
       "      <td>-3.634285e-16</td>\n",
       "      <td>1.308343e-16</td>\n",
       "      <td>-8.045349e-16</td>\n",
       "      <td>1.281655e-16</td>\n",
       "      <td>-8.835316e-17</td>\n",
       "      <td>1.327024e-16</td>\n",
       "      <td>-4.574646e-16</td>\n",
       "      <td>3.777301e-16</td>\n",
       "      <td>-3.830854e-16</td>\n",
       "      <td>-3.412882e-16</td>\n",
       "    </tr>\n",
       "    <tr>\n",
       "      <th>std</th>\n",
       "      <td>4.761905e-02</td>\n",
       "      <td>4.761905e-02</td>\n",
       "      <td>4.761905e-02</td>\n",
       "      <td>4.761905e-02</td>\n",
       "      <td>4.761905e-02</td>\n",
       "      <td>4.761905e-02</td>\n",
       "      <td>4.761905e-02</td>\n",
       "      <td>4.761905e-02</td>\n",
       "      <td>4.761905e-02</td>\n",
       "      <td>4.761905e-02</td>\n",
       "    </tr>\n",
       "    <tr>\n",
       "      <th>min</th>\n",
       "      <td>-1.072256e-01</td>\n",
       "      <td>-4.464164e-02</td>\n",
       "      <td>-9.027530e-02</td>\n",
       "      <td>-1.123996e-01</td>\n",
       "      <td>-1.267807e-01</td>\n",
       "      <td>-1.156131e-01</td>\n",
       "      <td>-1.023071e-01</td>\n",
       "      <td>-7.639450e-02</td>\n",
       "      <td>-1.260974e-01</td>\n",
       "      <td>-1.377672e-01</td>\n",
       "    </tr>\n",
       "    <tr>\n",
       "      <th>25%</th>\n",
       "      <td>-3.729927e-02</td>\n",
       "      <td>-4.464164e-02</td>\n",
       "      <td>-3.422907e-02</td>\n",
       "      <td>-3.665645e-02</td>\n",
       "      <td>-3.424784e-02</td>\n",
       "      <td>-3.035840e-02</td>\n",
       "      <td>-3.511716e-02</td>\n",
       "      <td>-3.949338e-02</td>\n",
       "      <td>-3.324879e-02</td>\n",
       "      <td>-3.317903e-02</td>\n",
       "    </tr>\n",
       "    <tr>\n",
       "      <th>50%</th>\n",
       "      <td>5.383060e-03</td>\n",
       "      <td>-4.464164e-02</td>\n",
       "      <td>-7.283766e-03</td>\n",
       "      <td>-5.670611e-03</td>\n",
       "      <td>-4.320866e-03</td>\n",
       "      <td>-3.819065e-03</td>\n",
       "      <td>-6.584468e-03</td>\n",
       "      <td>-2.592262e-03</td>\n",
       "      <td>-1.947634e-03</td>\n",
       "      <td>-1.077698e-03</td>\n",
       "    </tr>\n",
       "    <tr>\n",
       "      <th>75%</th>\n",
       "      <td>3.807591e-02</td>\n",
       "      <td>5.068012e-02</td>\n",
       "      <td>3.124802e-02</td>\n",
       "      <td>3.564384e-02</td>\n",
       "      <td>2.835801e-02</td>\n",
       "      <td>2.984439e-02</td>\n",
       "      <td>2.931150e-02</td>\n",
       "      <td>3.430886e-02</td>\n",
       "      <td>3.243323e-02</td>\n",
       "      <td>2.791705e-02</td>\n",
       "    </tr>\n",
       "    <tr>\n",
       "      <th>max</th>\n",
       "      <td>1.107267e-01</td>\n",
       "      <td>5.068012e-02</td>\n",
       "      <td>1.705552e-01</td>\n",
       "      <td>1.320442e-01</td>\n",
       "      <td>1.539137e-01</td>\n",
       "      <td>1.987880e-01</td>\n",
       "      <td>1.811791e-01</td>\n",
       "      <td>1.852344e-01</td>\n",
       "      <td>1.335990e-01</td>\n",
       "      <td>1.356118e-01</td>\n",
       "    </tr>\n",
       "  </tbody>\n",
       "</table>\n",
       "</div>"
      ],
      "text/plain": [
       "                age           sex           bmi            bp            s1  \\\n",
       "count  4.420000e+02  4.420000e+02  4.420000e+02  4.420000e+02  4.420000e+02   \n",
       "mean  -3.634285e-16  1.308343e-16 -8.045349e-16  1.281655e-16 -8.835316e-17   \n",
       "std    4.761905e-02  4.761905e-02  4.761905e-02  4.761905e-02  4.761905e-02   \n",
       "min   -1.072256e-01 -4.464164e-02 -9.027530e-02 -1.123996e-01 -1.267807e-01   \n",
       "25%   -3.729927e-02 -4.464164e-02 -3.422907e-02 -3.665645e-02 -3.424784e-02   \n",
       "50%    5.383060e-03 -4.464164e-02 -7.283766e-03 -5.670611e-03 -4.320866e-03   \n",
       "75%    3.807591e-02  5.068012e-02  3.124802e-02  3.564384e-02  2.835801e-02   \n",
       "max    1.107267e-01  5.068012e-02  1.705552e-01  1.320442e-01  1.539137e-01   \n",
       "\n",
       "                 s2            s3            s4            s5            s6  \n",
       "count  4.420000e+02  4.420000e+02  4.420000e+02  4.420000e+02  4.420000e+02  \n",
       "mean   1.327024e-16 -4.574646e-16  3.777301e-16 -3.830854e-16 -3.412882e-16  \n",
       "std    4.761905e-02  4.761905e-02  4.761905e-02  4.761905e-02  4.761905e-02  \n",
       "min   -1.156131e-01 -1.023071e-01 -7.639450e-02 -1.260974e-01 -1.377672e-01  \n",
       "25%   -3.035840e-02 -3.511716e-02 -3.949338e-02 -3.324879e-02 -3.317903e-02  \n",
       "50%   -3.819065e-03 -6.584468e-03 -2.592262e-03 -1.947634e-03 -1.077698e-03  \n",
       "75%    2.984439e-02  2.931150e-02  3.430886e-02  3.243323e-02  2.791705e-02  \n",
       "max    1.987880e-01  1.811791e-01  1.852344e-01  1.335990e-01  1.356118e-01  "
      ]
     },
     "execution_count": 1,
     "metadata": {},
     "output_type": "execute_result"
    }
   ],
   "source": [
    "import numpy as np\n",
    "from sklearn import datasets, linear_model\n",
    "import matplotlib.pyplot as plt\n",
    "import pandas as pd\n",
    "\n",
    "diabetes = datasets.load_diabetes()\n",
    "df = pd.DataFrame(data = diabetes.data, columns = diabetes.feature_names)\n",
    "df.describe()"
   ]
  },
  {
   "cell_type": "code",
   "execution_count": 2,
   "id": "12339f0e",
   "metadata": {},
   "outputs": [],
   "source": [
    "diabetes_X, diabetes_y = datasets.load_diabetes(return_X_y=True)\n",
    "diabetes_X = diabetes_X[:, np.newaxis, 2] # bmi data"
   ]
  },
  {
   "cell_type": "code",
   "execution_count": 3,
   "id": "db1bf566",
   "metadata": {},
   "outputs": [
    {
     "name": "stdout",
     "output_type": "stream",
     "text": [
      "152.1334841628967\n",
      "[949.43526038]\n"
     ]
    },
    {
     "data": {
      "image/png": "[encoded data removed]",
      "text/plain": [
       "<Figure size 432x288 with 1 Axes>"
      ]
     },
     "metadata": {
      "needs_background": "light"
     },
     "output_type": "display_data"
    }
   ],
   "source": [
    "regr = linear_model.LinearRegression()\n",
    "regr.fit(diabetes_X, diabetes_y)\n",
    "\n",
    "print(regr.intercept_)\n",
    "print(regr.coef_)\n",
    "\n",
    "plt.plot(diabetes_X, diabetes_y, 'o')\n",
    "plt.plot(diabetes_X, regr.intercept_ + diabetes_X*regr.coef_)\n",
    "plt.show()"
   ]
  },
  {
   "cell_type": "markdown",
   "id": "19d42fdd",
   "metadata": {},
   "source": [
    "### Gradient Descent"
   ]
  },
  {
   "cell_type": "markdown",
   "id": "27a6a644",
   "metadata": {},
   "source": [
    "Aims to minimize cost function by iterations. Cost function:\n",
    "\n",
    "$cost = \\frac{1}{2m}\\sum_{i=1}^{m}(y-y_i)^2 = \\frac{1}{2m}\\sum_{i=1}^{m}(\\alpha+\\beta x_i-y_i)^2$\n",
    "\n",
    "(which is $\\frac{1}{2}\\cdot MSE$, where $\\frac{1}{2}$ added to simplify equation when calculating derivatives ($(x^2)'=2x$). Note that multiplying the cost function by a scalar does not affect the location of its minimum).\n",
    "\n",
    "First let's update cost f-tion notation to more common one for GD:\n",
    "\n",
    "$J(\\theta_0, \\theta_1)=\\frac{1}{2m}\\sum_{i=1}^{m}(h(x^{(i)})-y^{(i)})^2=\\frac{1}{m}\\sum_{i=1}^{m}(\\theta_0 + \\theta_1 x^{(i)} -y^{(i)})^2$\n",
    "\n",
    "Then calculate partial derivatives (partial derviative represent change of the function as the variable changes):\n",
    "\n",
    "$\\frac{\\partial}{\\partial \\theta_0}(\\frac{1}{2m}\\sum_{i=1}^{m}(\\theta_0 + \\theta_1 x^{(i)} -y^{(i)})^2)=\\frac{1}{m}\\sum_{i=1}^{m}(\\theta_0 + \\theta_1 x^{(i)} -y^{(i)}))$\n",
    "\n",
    "$\\frac{\\partial}{\\partial \\theta_1}(\\frac{1}{2m}\\sum_{i=1}^{m}(\\theta_0 + \\theta_1 x^{(i)} -y^{(i)})^2)=\\frac{1}{m}\\sum_{i=1}^{m}x^{(i)}(\\theta_0 + \\theta_1 x^{(i)} -y^{(i)}))$\n",
    "\n",
    "Then we try to find minimal values of $\\theta_0$ and $\\theta_1$ by iterating until convergence (or for some predefined # of iterations):\n",
    "\n",
    "$\\theta_0:=\\theta_0-\\alpha \\frac{\\partial J(\\theta_0, \\theta_1)}{\\partial \\theta_0}$\n",
    "\n",
    "$\\theta_1:=\\theta_1-\\alpha \\frac{\\partial J(\\theta_0, \\theta_1)}{\\partial \\theta_1}$\n",
    "\n",
    "here $\\alpha$ - learning rate.\n",
    "\n",
    "Existing implementation - **sklearn.linear_model.SGDRegressor** (_Stochastic_ Gradient Descent) \n",
    "\n",
    "_Stochastic Gradient Descent_ - In Stochastic Gradient Descent, we use one example or one training sample at each iteration instead of using whole dataset to sum all for every steps"
   ]
  },
  {
   "cell_type": "code",
   "execution_count": 4,
   "id": "e0c4f90b",
   "metadata": {},
   "outputs": [
    {
     "name": "stdout",
     "output_type": "stream",
     "text": [
      "152.13348416289514\n",
      "754.6029927768063\n"
     ]
    }
   ],
   "source": [
    "# SGD for one independent variable\n",
    "def SGD(X, y, theta0, alpha, num_iterations):\n",
    "    theta = theta0\n",
    "    m = len(X)\n",
    "    \n",
    "    for _ in range(num_iterations):\n",
    "        h = theta0 + theta*X\n",
    "        theta0 = theta0 - alpha*((1/m)*sum(h-y))\n",
    "        theta = theta - alpha*((1/m)*sum(X*(h-y)))\n",
    "        \n",
    "    return theta0, theta\n",
    "\n",
    "theta0, theta1 = SGD(diabetes_X[:,0], diabetes_y, 0, 0.01, 70_000)\n",
    "print(theta0)\n",
    "print(theta1)"
   ]
  },
  {
   "cell_type": "code",
   "execution_count": 5,
   "id": "75a99c08",
   "metadata": {},
   "outputs": [
    {
     "data": {
      "image/png": "[encoded data removed]",
      "text/plain": [
       "<Figure size 432x288 with 1 Axes>"
      ]
     },
     "metadata": {
      "needs_background": "light"
     },
     "output_type": "display_data"
    }
   ],
   "source": [
    "plt.plot(diabetes_X[:,0], diabetes_y, 'o')\n",
    "plt.plot(diabetes_X[:,0], theta0 + diabetes_X*theta1)\n",
    "plt.show()"
   ]
  },
  {
   "cell_type": "code",
   "execution_count": 6,
   "id": "c23eca2e",
   "metadata": {},
   "outputs": [
    {
     "name": "stdout",
     "output_type": "stream",
     "text": [
      "[152.10960555]\n",
      "[613.14687381]\n"
     ]
    },
    {
     "data": {
      "image/png": "[encoded data removed]",
      "text/plain": [
       "<Figure size 432x288 with 1 Axes>"
      ]
     },
     "metadata": {
      "needs_background": "light"
     },
     "output_type": "display_data"
    }
   ],
   "source": [
    "from sklearn.linear_model import SGDRegressor\n",
    "from sklearn.preprocessing import StandardScaler\n",
    "\n",
    "sgd_reg = SGDRegressor(max_iter=100_000, tol=1e-2, alpha=0.001)\n",
    "sgd_reg.fit(diabetes_X, diabetes_y.reshape(len(diabetes_y),))\n",
    "\n",
    "print(sgd_reg.intercept_)\n",
    "print(sgd_reg.coef_)\n",
    "\n",
    "plt.plot(diabetes_X, diabetes_y, 'o')\n",
    "plt.plot(diabetes_X, sgd_reg.intercept_ + diabetes_X*sgd_reg.coef_)\n",
    "plt.show()"
   ]
  },
  {
   "cell_type": "markdown",
   "id": "e9f6e16c",
   "metadata": {},
   "source": [
    "### Before linear regression"
   ]
  },
  {
   "cell_type": "markdown",
   "id": "0fa0f984",
   "metadata": {},
   "source": [
    "1. Check if the relationship is linear;\n",
    "\n",
    "2. Remove noise;\n",
    "\n",
    "3. Remove collinearity - otherwise model will over-fit your data;\n",
    "\n",
    "4. Check for Gaussian distribution - it's not strictly necessary, but linear regression will make better perdiction if data is normally distributed. You may transform your data to better fit Gaussian distribution;\n",
    "\n",
    "5. Standartize data - predictions will be more reliable and in the case of GD it will converge quicker;"
   ]
  },
  {
   "cell_type": "code",
   "execution_count": null,
   "id": "923ecfe4",
   "metadata": {},
   "outputs": [],
   "source": []
  }
 ],
 "metadata": {
  "kernelspec": {
   "display_name": "Python 3",
   "language": "python",
   "name": "python3"
  },
  "language_info": {
   "codemirror_mode": {
    "name": "ipython",
    "version": 3
   },
   "file_extension": ".py",
   "mimetype": "text/x-python",
   "name": "python",
   "nbconvert_exporter": "python",
   "pygments_lexer": "ipython3",
   "version": "3.8.8"
  }
 },
 "nbformat": 4,
 "nbformat_minor": 5
}
